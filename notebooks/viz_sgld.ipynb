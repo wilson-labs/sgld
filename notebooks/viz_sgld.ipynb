{
 "cells": [
  {
   "cell_type": "code",
   "execution_count": null,
   "metadata": {},
   "outputs": [],
   "source": [
    "import sys\n",
    "from pathlib import Path\n",
    "\n",
    "src_path = str((Path('.') / '..' / 'src').resolve())\n",
    "if src_path not in sys.path:\n",
    "  sys.path.insert(0, src_path)"
   ]
  },
  {
   "cell_type": "code",
   "execution_count": null,
   "metadata": {},
   "outputs": [],
   "source": [
    "import matplotlib.pyplot as plt\n",
    "import seaborn as sns\n",
    "import numpy as np\n",
    "from tqdm.auto import tqdm\n",
    "\n",
    "sns.set(font_scale=1.5, style='whitegrid')"
   ]
  },
  {
   "cell_type": "code",
   "execution_count": null,
   "metadata": {},
   "outputs": [],
   "source": [
    "import torch\n",
    "import torch.nn as nn\n",
    "from torch.distributions import MultivariateNormal\n",
    "\n",
    "class MoG2(nn.Module):\n",
    "  def __init__(self):\n",
    "    super().__init__()\n",
    "\n",
    "    self.p1 = MultivariateNormal(torch.zeros(2) + 2., covariance_matrix=.5 * torch.eye(2))\n",
    "    self.p2 = MultivariateNormal(torch.zeros(2) - 2., covariance_matrix=torch.eye(2))\n",
    "\n",
    "  def forward(self, x):\n",
    "    log_half = torch.tensor(1/2).log()\n",
    "    v1 = self.p1.log_prob(x) + log_half\n",
    "    v2 = self.p2.log_prob(x) + log_half\n",
    "\n",
    "    return torch.stack([v1, v2]).logsumexp(0)"
   ]
  },
  {
   "cell_type": "code",
   "execution_count": null,
   "metadata": {},
   "outputs": [],
   "source": [
    "from sgld.optim import SGLD\n",
    "from sgld.optim.lr_scheduler import CosineLR\n",
    "\n",
    "class LL(nn.Module):\n",
    "  def __init__(self):\n",
    "    super().__init__()\n",
    "\n",
    "    self.theta = nn.Parameter(2. * torch.randn(1,2))\n",
    "    self.mog = MoG2()\n",
    "\n",
    "  def forward(self):\n",
    "    return self.mog(self.theta)\n",
    "\n",
    "f = LL()\n",
    "T = int(1e4)\n",
    "n_cycles = 4\n",
    "lr = .5\n",
    "\n",
    "sgld = SGLD(f.parameters(), lr=lr, momentum=.9)\n",
    "sgld_scheduler = CosineLR(sgld, n_cycles=n_cycles, n_samples=2000, T_max=T)\n",
    "\n",
    "samples = []\n",
    "for t in tqdm(range(T)):\n",
    "  sgld.zero_grad()\n",
    "\n",
    "  v = -f()\n",
    "  v.backward()\n",
    "\n",
    "  if sgld_scheduler.get_last_beta() <= sgld_scheduler.beta:\n",
    "    sgld.step(noise=False)\n",
    "  else:\n",
    "    sgld.step()\n",
    "\n",
    "    if sgld_scheduler.should_sample():\n",
    "      samples.append(f.theta.detach().clone())\n",
    "\n",
    "  sgld_scheduler.step()\n",
    "\n",
    "samples = torch.stack(samples).squeeze(1)"
   ]
  },
  {
   "cell_type": "code",
   "execution_count": null,
   "metadata": {},
   "outputs": [],
   "source": [
    "grid = torch.from_numpy(np.mgrid[-7:7:.1, -7:7:.1]).T.float()\n",
    "mog = MoG2()\n",
    "logpgrid = mog(grid)\n",
    "\n",
    "fig, ax = plt.subplots(figsize=(7,7))\n",
    "\n",
    "ax.contourf(grid[..., 0].numpy(), grid[..., 1].numpy(), logpgrid.exp().numpy(), levels=10,\n",
    "            cmap=sns.color_palette(\"crest_r\", as_cmap=True))\n",
    "\n",
    "ax.scatter(samples[:, 0].numpy(), samples[:, 1].numpy(), c='red', alpha=.1)\n",
    "\n",
    "ax.set_axis_off()"
   ]
  }
 ],
 "metadata": {
  "interpreter": {
   "hash": "ef16d1c2b9bdea86a9f19387e5c6274ab469aa69d27340e178608868525b66dc"
  },
  "kernelspec": {
   "display_name": "Python 3.9.7 64-bit ('data-aug-likelihood': conda)",
   "name": "python3"
  },
  "language_info": {
   "codemirror_mode": {
    "name": "ipython",
    "version": 3
   },
   "file_extension": ".py",
   "mimetype": "text/x-python",
   "name": "python",
   "nbconvert_exporter": "python",
   "pygments_lexer": "ipython3",
   "version": "3.9.7"
  },
  "orig_nbformat": 4
 },
 "nbformat": 4,
 "nbformat_minor": 2
}
